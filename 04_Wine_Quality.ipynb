{
 "cells": [
  {
   "cell_type": "code",
   "execution_count": 1,
   "metadata": {
    "colab": {},
    "colab_type": "code",
    "id": "VzYjhxcodWEx"
   },
   "outputs": [],
   "source": [
    "# Basic packages\n",
    "import pandas as pd \n",
    "import numpy as np\n",
    "import re\n",
    "import collections\n",
    "import matplotlib.pyplot as plt\n",
    "\n",
    "# Modeling, selection, and evaluation\n",
    "from fastai.text import *\n",
    "from sklearn.model_selection import train_test_split\n",
    "from sklearn.metrics import confusion_matrix, accuracy_score\n",
    "from sklearn.utils.multiclass import unique_labels\n",
    "\n",
    "%matplotlib inline "
   ]
  },
  {
   "cell_type": "code",
   "execution_count": 22,
   "metadata": {
    "colab": {
     "base_uri": "https://localhost:8080/",
     "height": 490
    },
    "colab_type": "code",
    "id": "KQHI7Dj2fRnh",
    "outputId": "82897b7a-16ae-4e9a-fa58-bc7be10b91a3"
   },
   "outputs": [
    {
     "name": "stdout",
     "output_type": "stream",
     "text": [
      "Requirement already satisfied: seaborn in /usr/local/lib/python3.6/dist-packages (0.10.1)\n",
      "Requirement already satisfied: pandas>=0.22.0 in /usr/local/lib/python3.6/dist-packages (from seaborn) (1.0.5)\n",
      "Requirement already satisfied: matplotlib>=2.1.2 in /usr/local/lib/python3.6/dist-packages (from seaborn) (3.2.2)\n",
      "Requirement already satisfied: scipy>=1.0.1 in /usr/local/lib/python3.6/dist-packages (from seaborn) (1.4.1)\n",
      "Requirement already satisfied: numpy>=1.13.3 in /usr/local/lib/python3.6/dist-packages (from seaborn) (1.18.5)\n",
      "Requirement already satisfied: python-dateutil>=2.6.1 in /usr/local/lib/python3.6/dist-packages (from pandas>=0.22.0->seaborn) (2.8.1)\n",
      "Requirement already satisfied: pytz>=2017.2 in /usr/local/lib/python3.6/dist-packages (from pandas>=0.22.0->seaborn) (2018.9)\n",
      "Requirement already satisfied: kiwisolver>=1.0.1 in /usr/local/lib/python3.6/dist-packages (from matplotlib>=2.1.2->seaborn) (1.2.0)\n",
      "Requirement already satisfied: cycler>=0.10 in /usr/local/lib/python3.6/dist-packages (from matplotlib>=2.1.2->seaborn) (0.10.0)\n",
      "Requirement already satisfied: pyparsing!=2.0.4,!=2.1.2,!=2.1.6,>=2.0.1 in /usr/local/lib/python3.6/dist-packages (from matplotlib>=2.1.2->seaborn) (2.4.7)\n",
      "Requirement already satisfied: six>=1.5 in /usr/local/lib/python3.6/dist-packages (from python-dateutil>=2.6.1->pandas>=0.22.0->seaborn) (1.12.0)\n",
      "Collecting git+https://github.com/tensorflow/docs\n",
      "  Cloning https://github.com/tensorflow/docs to /tmp/pip-req-build-_35cgtqk\n",
      "  Running command git clone -q https://github.com/tensorflow/docs /tmp/pip-req-build-_35cgtqk\n",
      "Requirement already satisfied: astor in /usr/local/lib/python3.6/dist-packages (from tensorflow-docs===0.0.0bc9207a8f07e9c3da4e64c0203d684ef3dfa3b96-) (0.8.1)\n",
      "Requirement already satisfied: absl-py in /usr/local/lib/python3.6/dist-packages (from tensorflow-docs===0.0.0bc9207a8f07e9c3da4e64c0203d684ef3dfa3b96-) (0.9.0)\n",
      "Requirement already satisfied: protobuf in /usr/local/lib/python3.6/dist-packages (from tensorflow-docs===0.0.0bc9207a8f07e9c3da4e64c0203d684ef3dfa3b96-) (3.12.2)\n",
      "Requirement already satisfied: pyyaml in /usr/local/lib/python3.6/dist-packages (from tensorflow-docs===0.0.0bc9207a8f07e9c3da4e64c0203d684ef3dfa3b96-) (3.13)\n",
      "Requirement already satisfied: six in /usr/local/lib/python3.6/dist-packages (from absl-py->tensorflow-docs===0.0.0bc9207a8f07e9c3da4e64c0203d684ef3dfa3b96-) (1.12.0)\n",
      "Requirement already satisfied: setuptools in /usr/local/lib/python3.6/dist-packages (from protobuf->tensorflow-docs===0.0.0bc9207a8f07e9c3da4e64c0203d684ef3dfa3b96-) (49.1.0)\n",
      "Building wheels for collected packages: tensorflow-docs\n",
      "  Building wheel for tensorflow-docs (setup.py) ... \u001b[?25l\u001b[?25hdone\n",
      "  Created wheel for tensorflow-docs: filename=tensorflow_docs-0.0.0bc9207a8f07e9c3da4e64c0203d684ef3dfa3b96_-cp36-none-any.whl size=124904 sha256=2bca4a66b187e947983c1c4a48db4e1474af5e10f48df7d647260964acaa8ffc\n",
      "  Stored in directory: /tmp/pip-ephem-wheel-cache-cro8gtbc/wheels/eb/1b/35/fce87697be00d2fc63e0b4b395b0d9c7e391a10e98d9a0d97f\n",
      "Successfully built tensorflow-docs\n",
      "Installing collected packages: tensorflow-docs\n",
      "Successfully installed tensorflow-docs-0.0.0bc9207a8f07e9c3da4e64c0203d684ef3dfa3b96-\n"
     ]
    }
   ],
   "source": [
    "# Use seaborn for pairplot\n",
    "!pip install seaborn\n",
    "\n",
    "# Use some functions from tensorflow_docs\n",
    "!pip install git+https://github.com/tensorflow/docs"
   ]
  },
  {
   "cell_type": "code",
   "execution_count": 17,
   "metadata": {
    "colab": {
     "base_uri": "https://localhost:8080/",
     "height": 34
    },
    "colab_type": "code",
    "id": "joJvBgEFfGkM",
    "outputId": "b08df78b-03d8-4275-8a5e-3e3376a9e862"
   },
   "outputs": [
    {
     "name": "stdout",
     "output_type": "stream",
     "text": [
      "2.2.0\n"
     ]
    }
   ],
   "source": [
    "import tensorflow as tf\n",
    "\n",
    "from tensorflow import keras\n",
    "from tensorflow.keras import layers\n",
    "\n",
    "print(tf.__version__)"
   ]
  },
  {
   "cell_type": "code",
   "execution_count": 23,
   "metadata": {
    "colab": {},
    "colab_type": "code",
    "id": "2ybh3b9gfI-f"
   },
   "outputs": [],
   "source": [
    "import tensorflow_docs as tfdocs\n",
    "import tensorflow_docs.plots\n",
    "import tensorflow_docs.modeling"
   ]
  },
  {
   "cell_type": "code",
   "execution_count": 2,
   "metadata": {
    "colab": {
     "base_uri": "https://localhost:8080/",
     "height": 121
    },
    "colab_type": "code",
    "id": "ke0tCgpQdcR2",
    "outputId": "768d08ed-614f-4b72-9cc3-56c19d5e7b2a"
   },
   "outputs": [
    {
     "name": "stdout",
     "output_type": "stream",
     "text": [
      "Go to this URL in a browser: https://accounts.google.com/o/oauth2/auth?client_id=947318989803-6bn6qk8qdgf4n4g3pfee6491hc0brc4i.apps.googleusercontent.com&redirect_uri=urn%3aietf%3awg%3aoauth%3a2.0%3aoob&response_type=code&scope=email%20https%3a%2f%2fwww.googleapis.com%2fauth%2fdocs.test%20https%3a%2f%2fwww.googleapis.com%2fauth%2fdrive%20https%3a%2f%2fwww.googleapis.com%2fauth%2fdrive.photos.readonly%20https%3a%2f%2fwww.googleapis.com%2fauth%2fpeopleapi.readonly\n",
      "\n",
      "Enter your authorization code:\n",
      "··········\n",
      "Mounted at /content/drive\n"
     ]
    }
   ],
   "source": [
    "from google.colab import drive\n",
    "drive.mount('/content/drive')"
   ]
  },
  {
   "cell_type": "code",
   "execution_count": 5,
   "metadata": {
    "colab": {
     "base_uri": "https://localhost:8080/",
     "height": 249
    },
    "colab_type": "code",
    "id": "XPjv-IDjdffy",
    "outputId": "3218bd61-8e28-468b-e785-ee2334f1e5d0"
   },
   "outputs": [
    {
     "name": "stderr",
     "output_type": "stream",
     "text": [
      "/usr/local/lib/python3.6/dist-packages/ipykernel_launcher.py:2: FutureWarning: Passing a negative integer is deprecated in version 1.0 and will not be supported in future version. Instead, use None to not limit the column width.\n",
      "  \n"
     ]
    },
    {
     "data": {
      "text/html": [
       "<div>\n",
       "<style scoped>\n",
       "    .dataframe tbody tr th:only-of-type {\n",
       "        vertical-align: middle;\n",
       "    }\n",
       "\n",
       "    .dataframe tbody tr th {\n",
       "        vertical-align: top;\n",
       "    }\n",
       "\n",
       "    .dataframe thead th {\n",
       "        text-align: right;\n",
       "    }\n",
       "</style>\n",
       "<table border=\"1\" class=\"dataframe\">\n",
       "  <thead>\n",
       "    <tr style=\"text-align: right;\">\n",
       "      <th></th>\n",
       "      <th>fixed acidity</th>\n",
       "      <th>volatile acidity</th>\n",
       "      <th>citric acid</th>\n",
       "      <th>residual sugar</th>\n",
       "      <th>chlorides</th>\n",
       "      <th>free sulfur dioxide</th>\n",
       "      <th>total sulfur dioxide</th>\n",
       "      <th>density</th>\n",
       "      <th>pH</th>\n",
       "      <th>sulphates</th>\n",
       "      <th>alcohol</th>\n",
       "      <th>quality</th>\n",
       "    </tr>\n",
       "  </thead>\n",
       "  <tbody>\n",
       "    <tr>\n",
       "      <th>266</th>\n",
       "      <td>6.9</td>\n",
       "      <td>0.32</td>\n",
       "      <td>0.26</td>\n",
       "      <td>8.30</td>\n",
       "      <td>0.053</td>\n",
       "      <td>32.0</td>\n",
       "      <td>180.0</td>\n",
       "      <td>0.99650</td>\n",
       "      <td>3.25</td>\n",
       "      <td>0.51</td>\n",
       "      <td>9.2</td>\n",
       "      <td>6</td>\n",
       "    </tr>\n",
       "    <tr>\n",
       "      <th>601</th>\n",
       "      <td>7.2</td>\n",
       "      <td>0.24</td>\n",
       "      <td>0.40</td>\n",
       "      <td>1.40</td>\n",
       "      <td>0.045</td>\n",
       "      <td>31.0</td>\n",
       "      <td>106.0</td>\n",
       "      <td>0.99140</td>\n",
       "      <td>2.88</td>\n",
       "      <td>0.38</td>\n",
       "      <td>10.8</td>\n",
       "      <td>6</td>\n",
       "    </tr>\n",
       "    <tr>\n",
       "      <th>2153</th>\n",
       "      <td>7.5</td>\n",
       "      <td>0.18</td>\n",
       "      <td>0.39</td>\n",
       "      <td>1.90</td>\n",
       "      <td>0.054</td>\n",
       "      <td>23.0</td>\n",
       "      <td>91.0</td>\n",
       "      <td>0.99410</td>\n",
       "      <td>3.27</td>\n",
       "      <td>0.45</td>\n",
       "      <td>10.3</td>\n",
       "      <td>6</td>\n",
       "    </tr>\n",
       "    <tr>\n",
       "      <th>1088</th>\n",
       "      <td>7.4</td>\n",
       "      <td>0.20</td>\n",
       "      <td>0.37</td>\n",
       "      <td>16.95</td>\n",
       "      <td>0.048</td>\n",
       "      <td>43.0</td>\n",
       "      <td>190.0</td>\n",
       "      <td>0.99950</td>\n",
       "      <td>3.03</td>\n",
       "      <td>0.42</td>\n",
       "      <td>9.2</td>\n",
       "      <td>6</td>\n",
       "    </tr>\n",
       "    <tr>\n",
       "      <th>3560</th>\n",
       "      <td>6.6</td>\n",
       "      <td>0.64</td>\n",
       "      <td>0.28</td>\n",
       "      <td>4.40</td>\n",
       "      <td>0.032</td>\n",
       "      <td>19.0</td>\n",
       "      <td>78.0</td>\n",
       "      <td>0.99036</td>\n",
       "      <td>3.11</td>\n",
       "      <td>0.62</td>\n",
       "      <td>12.9</td>\n",
       "      <td>6</td>\n",
       "    </tr>\n",
       "  </tbody>\n",
       "</table>\n",
       "</div>"
      ],
      "text/plain": [
       "      fixed acidity  volatile acidity  citric acid  ...  sulphates  alcohol  quality\n",
       "266   6.9            0.32              0.26         ...  0.51       9.2      6      \n",
       "601   7.2            0.24              0.40         ...  0.38       10.8     6      \n",
       "2153  7.5            0.18              0.39         ...  0.45       10.3     6      \n",
       "1088  7.4            0.20              0.37         ...  0.42       9.2      6      \n",
       "3560  6.6            0.64              0.28         ...  0.62       12.9     6      \n",
       "\n",
       "[5 rows x 12 columns]"
      ]
     },
     "execution_count": 5,
     "metadata": {
      "tags": []
     },
     "output_type": "execute_result"
    }
   ],
   "source": [
    "# Read file into dataframe\n",
    "pd.set_option('display.max_colwidth', -1)\n",
    "df = pd.read_csv('/content/drive/My Drive/Colab Notebooks/winequality.csv',sep=\";\")\n",
    "df = df.reindex(np.random.permutation(df.index))  \n",
    "df.head()"
   ]
  },
  {
   "cell_type": "code",
   "execution_count": 11,
   "metadata": {
    "colab": {},
    "colab_type": "code",
    "id": "_iDD9mped1ET"
   },
   "outputs": [],
   "source": [
    "train_dataset = df.sample(frac=0.8,random_state=0)\n",
    "test_dataset = df.drop(train_dataset.index)"
   ]
  },
  {
   "cell_type": "code",
   "execution_count": 12,
   "metadata": {
    "colab": {
     "base_uri": "https://localhost:8080/",
     "height": 373
    },
    "colab_type": "code",
    "id": "Z1sTa44zez9w",
    "outputId": "d055906b-99d0-4512-8e1e-1d120f7452f8"
   },
   "outputs": [
    {
     "data": {
      "text/html": [
       "<div>\n",
       "<style scoped>\n",
       "    .dataframe tbody tr th:only-of-type {\n",
       "        vertical-align: middle;\n",
       "    }\n",
       "\n",
       "    .dataframe tbody tr th {\n",
       "        vertical-align: top;\n",
       "    }\n",
       "\n",
       "    .dataframe thead th {\n",
       "        text-align: right;\n",
       "    }\n",
       "</style>\n",
       "<table border=\"1\" class=\"dataframe\">\n",
       "  <thead>\n",
       "    <tr style=\"text-align: right;\">\n",
       "      <th></th>\n",
       "      <th>count</th>\n",
       "      <th>mean</th>\n",
       "      <th>std</th>\n",
       "      <th>min</th>\n",
       "      <th>25%</th>\n",
       "      <th>50%</th>\n",
       "      <th>75%</th>\n",
       "      <th>max</th>\n",
       "    </tr>\n",
       "  </thead>\n",
       "  <tbody>\n",
       "    <tr>\n",
       "      <th>fixed acidity</th>\n",
       "      <td>3918.0</td>\n",
       "      <td>6.850434</td>\n",
       "      <td>0.844837</td>\n",
       "      <td>3.80000</td>\n",
       "      <td>6.30000</td>\n",
       "      <td>6.8000</td>\n",
       "      <td>7.300000</td>\n",
       "      <td>14.20000</td>\n",
       "    </tr>\n",
       "    <tr>\n",
       "      <th>volatile acidity</th>\n",
       "      <td>3918.0</td>\n",
       "      <td>0.279191</td>\n",
       "      <td>0.102404</td>\n",
       "      <td>0.08000</td>\n",
       "      <td>0.21000</td>\n",
       "      <td>0.2600</td>\n",
       "      <td>0.323750</td>\n",
       "      <td>1.10000</td>\n",
       "    </tr>\n",
       "    <tr>\n",
       "      <th>citric acid</th>\n",
       "      <td>3918.0</td>\n",
       "      <td>0.333379</td>\n",
       "      <td>0.120097</td>\n",
       "      <td>0.00000</td>\n",
       "      <td>0.27000</td>\n",
       "      <td>0.3200</td>\n",
       "      <td>0.390000</td>\n",
       "      <td>1.23000</td>\n",
       "    </tr>\n",
       "    <tr>\n",
       "      <th>residual sugar</th>\n",
       "      <td>3918.0</td>\n",
       "      <td>6.440518</td>\n",
       "      <td>5.084602</td>\n",
       "      <td>0.60000</td>\n",
       "      <td>1.70000</td>\n",
       "      <td>5.2000</td>\n",
       "      <td>9.900000</td>\n",
       "      <td>65.80000</td>\n",
       "    </tr>\n",
       "    <tr>\n",
       "      <th>chlorides</th>\n",
       "      <td>3918.0</td>\n",
       "      <td>0.045886</td>\n",
       "      <td>0.021754</td>\n",
       "      <td>0.00900</td>\n",
       "      <td>0.03600</td>\n",
       "      <td>0.0430</td>\n",
       "      <td>0.050000</td>\n",
       "      <td>0.34600</td>\n",
       "    </tr>\n",
       "    <tr>\n",
       "      <th>free sulfur dioxide</th>\n",
       "      <td>3918.0</td>\n",
       "      <td>35.313808</td>\n",
       "      <td>16.842396</td>\n",
       "      <td>2.00000</td>\n",
       "      <td>23.00000</td>\n",
       "      <td>34.0000</td>\n",
       "      <td>46.000000</td>\n",
       "      <td>146.50000</td>\n",
       "    </tr>\n",
       "    <tr>\n",
       "      <th>total sulfur dioxide</th>\n",
       "      <td>3918.0</td>\n",
       "      <td>138.612813</td>\n",
       "      <td>42.349760</td>\n",
       "      <td>10.00000</td>\n",
       "      <td>108.00000</td>\n",
       "      <td>134.0000</td>\n",
       "      <td>168.000000</td>\n",
       "      <td>366.50000</td>\n",
       "    </tr>\n",
       "    <tr>\n",
       "      <th>density</th>\n",
       "      <td>3918.0</td>\n",
       "      <td>0.994072</td>\n",
       "      <td>0.003009</td>\n",
       "      <td>0.98711</td>\n",
       "      <td>0.99176</td>\n",
       "      <td>0.9938</td>\n",
       "      <td>0.996200</td>\n",
       "      <td>1.03898</td>\n",
       "    </tr>\n",
       "    <tr>\n",
       "      <th>pH</th>\n",
       "      <td>3918.0</td>\n",
       "      <td>3.188869</td>\n",
       "      <td>0.151080</td>\n",
       "      <td>2.72000</td>\n",
       "      <td>3.08250</td>\n",
       "      <td>3.1800</td>\n",
       "      <td>3.280000</td>\n",
       "      <td>3.82000</td>\n",
       "    </tr>\n",
       "    <tr>\n",
       "      <th>sulphates</th>\n",
       "      <td>3918.0</td>\n",
       "      <td>0.490268</td>\n",
       "      <td>0.113984</td>\n",
       "      <td>0.22000</td>\n",
       "      <td>0.41000</td>\n",
       "      <td>0.4800</td>\n",
       "      <td>0.550000</td>\n",
       "      <td>1.06000</td>\n",
       "    </tr>\n",
       "    <tr>\n",
       "      <th>alcohol</th>\n",
       "      <td>3918.0</td>\n",
       "      <td>10.494795</td>\n",
       "      <td>1.225942</td>\n",
       "      <td>8.00000</td>\n",
       "      <td>9.40000</td>\n",
       "      <td>10.3000</td>\n",
       "      <td>11.391667</td>\n",
       "      <td>14.20000</td>\n",
       "    </tr>\n",
       "  </tbody>\n",
       "</table>\n",
       "</div>"
      ],
      "text/plain": [
       "                       count        mean  ...         75%        max\n",
       "fixed acidity         3918.0  6.850434    ...  7.300000    14.20000 \n",
       "volatile acidity      3918.0  0.279191    ...  0.323750    1.10000  \n",
       "citric acid           3918.0  0.333379    ...  0.390000    1.23000  \n",
       "residual sugar        3918.0  6.440518    ...  9.900000    65.80000 \n",
       "chlorides             3918.0  0.045886    ...  0.050000    0.34600  \n",
       "free sulfur dioxide   3918.0  35.313808   ...  46.000000   146.50000\n",
       "total sulfur dioxide  3918.0  138.612813  ...  168.000000  366.50000\n",
       "density               3918.0  0.994072    ...  0.996200    1.03898  \n",
       "pH                    3918.0  3.188869    ...  3.280000    3.82000  \n",
       "sulphates             3918.0  0.490268    ...  0.550000    1.06000  \n",
       "alcohol               3918.0  10.494795   ...  11.391667   14.20000 \n",
       "\n",
       "[11 rows x 8 columns]"
      ]
     },
     "execution_count": 12,
     "metadata": {
      "tags": []
     },
     "output_type": "execute_result"
    }
   ],
   "source": [
    "train_stats = train_dataset.describe()\n",
    "train_stats.pop(\"quality\")\n",
    "train_stats = train_stats.transpose()\n",
    "train_stats"
   ]
  },
  {
   "cell_type": "code",
   "execution_count": 13,
   "metadata": {
    "colab": {},
    "colab_type": "code",
    "id": "OdCEg9b3ekUn"
   },
   "outputs": [],
   "source": [
    "train_labels = train_dataset.pop('quality')\n",
    "test_labels = test_dataset.pop('quality')"
   ]
  },
  {
   "cell_type": "code",
   "execution_count": 14,
   "metadata": {
    "colab": {},
    "colab_type": "code",
    "id": "ViuZC70ceqlm"
   },
   "outputs": [],
   "source": [
    "def norm(x):\n",
    "  return (x - train_stats['mean']) / train_stats['std']\n",
    "normed_train_data = norm(train_dataset)\n",
    "normed_test_data = norm(test_dataset)"
   ]
  },
  {
   "cell_type": "code",
   "execution_count": 15,
   "metadata": {
    "colab": {},
    "colab_type": "code",
    "id": "j2K_LOTaest0"
   },
   "outputs": [],
   "source": [
    "def build_model():\n",
    "  model = keras.Sequential([\n",
    "    layers.Dense(64, activation='relu', input_shape=[len(train_dataset.keys())]),\n",
    "    layers.Dense(128, activation='relu'),\n",
    "    layers.Dense(64,activation ='relu'),\n",
    "    layers.Dense(1)\n",
    "  ])\n",
    "\n",
    "  optimizer = tf.keras.optimizers.RMSprop(0.001)\n",
    "\n",
    "  model.compile(loss='mse',\n",
    "                optimizer=optimizer,\n",
    "                metrics=['mae', 'mse'])\n",
    "  return model"
   ]
  },
  {
   "cell_type": "code",
   "execution_count": 20,
   "metadata": {
    "colab": {},
    "colab_type": "code",
    "id": "Z1aSsY_0fB8b"
   },
   "outputs": [],
   "source": [
    "model = build_model()"
   ]
  },
  {
   "cell_type": "code",
   "execution_count": 24,
   "metadata": {
    "colab": {
     "base_uri": "https://localhost:8080/",
     "height": 370
    },
    "colab_type": "code",
    "id": "MssM64m9fD3I",
    "outputId": "d4e9a30e-1f3e-48cf-d6f7-9b7f9cc893b0"
   },
   "outputs": [
    {
     "name": "stdout",
     "output_type": "stream",
     "text": [
      "\n",
      "Epoch: 0, loss:5.2165,  mae:1.6907,  mse:5.2165,  val_loss:2.0119,  val_mae:1.1156,  val_mse:2.0119,  \n",
      "....................................................................................................\n",
      "Epoch: 100, loss:0.1735,  mae:0.3187,  mse:0.1735,  val_loss:0.6659,  val_mae:0.6241,  val_mse:0.6659,  \n",
      "....................................................................................................\n",
      "Epoch: 200, loss:0.0754,  mae:0.2120,  mse:0.0754,  val_loss:0.5587,  val_mae:0.5375,  val_mse:0.5587,  \n",
      "....................................................................................................\n",
      "Epoch: 300, loss:0.0444,  mae:0.1618,  mse:0.0444,  val_loss:0.6075,  val_mae:0.5682,  val_mse:0.6075,  \n",
      "....................................................................................................\n",
      "Epoch: 400, loss:0.0354,  mae:0.1449,  mse:0.0354,  val_loss:0.5646,  val_mae:0.5356,  val_mse:0.5646,  \n",
      "....................................................................................................\n",
      "Epoch: 500, loss:0.0258,  mae:0.1245,  mse:0.0258,  val_loss:0.5698,  val_mae:0.5310,  val_mse:0.5698,  \n",
      "....................................................................................................\n",
      "Epoch: 600, loss:0.0230,  mae:0.1174,  mse:0.0230,  val_loss:0.5500,  val_mae:0.5154,  val_mse:0.5500,  \n",
      "....................................................................................................\n",
      "Epoch: 700, loss:0.0191,  mae:0.1036,  mse:0.0191,  val_loss:0.5440,  val_mae:0.5081,  val_mse:0.5440,  \n",
      "....................................................................................................\n",
      "Epoch: 800, loss:0.0169,  mae:0.0985,  mse:0.0169,  val_loss:0.5241,  val_mae:0.4990,  val_mse:0.5241,  \n",
      "....................................................................................................\n",
      "Epoch: 900, loss:0.0141,  mae:0.0900,  mse:0.0141,  val_loss:0.5322,  val_mae:0.5099,  val_mse:0.5322,  \n",
      "...................................................................................................."
     ]
    }
   ],
   "source": [
    "EPOCHS = 1000\n",
    "\n",
    "history = model.fit(\n",
    "  normed_train_data, train_labels,\n",
    "  epochs=EPOCHS, validation_split = 0.2, verbose=0,\n",
    "  callbacks=[tfdocs.modeling.EpochDots()])"
   ]
  },
  {
   "cell_type": "code",
   "execution_count": 25,
   "metadata": {
    "colab": {
     "base_uri": "https://localhost:8080/",
     "height": 195
    },
    "colab_type": "code",
    "id": "5m3UCjbufK9f",
    "outputId": "efd56256-1d3f-4653-d8f2-d0aa1a616fe3"
   },
   "outputs": [
    {
     "data": {
      "text/html": [
       "<div>\n",
       "<style scoped>\n",
       "    .dataframe tbody tr th:only-of-type {\n",
       "        vertical-align: middle;\n",
       "    }\n",
       "\n",
       "    .dataframe tbody tr th {\n",
       "        vertical-align: top;\n",
       "    }\n",
       "\n",
       "    .dataframe thead th {\n",
       "        text-align: right;\n",
       "    }\n",
       "</style>\n",
       "<table border=\"1\" class=\"dataframe\">\n",
       "  <thead>\n",
       "    <tr style=\"text-align: right;\">\n",
       "      <th></th>\n",
       "      <th>loss</th>\n",
       "      <th>mae</th>\n",
       "      <th>mse</th>\n",
       "      <th>val_loss</th>\n",
       "      <th>val_mae</th>\n",
       "      <th>val_mse</th>\n",
       "      <th>epoch</th>\n",
       "    </tr>\n",
       "  </thead>\n",
       "  <tbody>\n",
       "    <tr>\n",
       "      <th>995</th>\n",
       "      <td>0.012660</td>\n",
       "      <td>0.084519</td>\n",
       "      <td>0.012660</td>\n",
       "      <td>0.509355</td>\n",
       "      <td>0.494496</td>\n",
       "      <td>0.509355</td>\n",
       "      <td>995</td>\n",
       "    </tr>\n",
       "    <tr>\n",
       "      <th>996</th>\n",
       "      <td>0.012385</td>\n",
       "      <td>0.083196</td>\n",
       "      <td>0.012385</td>\n",
       "      <td>0.507920</td>\n",
       "      <td>0.491352</td>\n",
       "      <td>0.507920</td>\n",
       "      <td>996</td>\n",
       "    </tr>\n",
       "    <tr>\n",
       "      <th>997</th>\n",
       "      <td>0.013239</td>\n",
       "      <td>0.086714</td>\n",
       "      <td>0.013239</td>\n",
       "      <td>0.517369</td>\n",
       "      <td>0.494981</td>\n",
       "      <td>0.517369</td>\n",
       "      <td>997</td>\n",
       "    </tr>\n",
       "    <tr>\n",
       "      <th>998</th>\n",
       "      <td>0.012968</td>\n",
       "      <td>0.086851</td>\n",
       "      <td>0.012968</td>\n",
       "      <td>0.513019</td>\n",
       "      <td>0.501633</td>\n",
       "      <td>0.513019</td>\n",
       "      <td>998</td>\n",
       "    </tr>\n",
       "    <tr>\n",
       "      <th>999</th>\n",
       "      <td>0.012705</td>\n",
       "      <td>0.084483</td>\n",
       "      <td>0.012705</td>\n",
       "      <td>0.516991</td>\n",
       "      <td>0.498022</td>\n",
       "      <td>0.516991</td>\n",
       "      <td>999</td>\n",
       "    </tr>\n",
       "  </tbody>\n",
       "</table>\n",
       "</div>"
      ],
      "text/plain": [
       "         loss       mae       mse  val_loss   val_mae   val_mse  epoch\n",
       "995  0.012660  0.084519  0.012660  0.509355  0.494496  0.509355  995  \n",
       "996  0.012385  0.083196  0.012385  0.507920  0.491352  0.507920  996  \n",
       "997  0.013239  0.086714  0.013239  0.517369  0.494981  0.517369  997  \n",
       "998  0.012968  0.086851  0.012968  0.513019  0.501633  0.513019  998  \n",
       "999  0.012705  0.084483  0.012705  0.516991  0.498022  0.516991  999  "
      ]
     },
     "execution_count": 25,
     "metadata": {
      "tags": []
     },
     "output_type": "execute_result"
    }
   ],
   "source": [
    "hist = pd.DataFrame(history.history)\n",
    "hist['epoch'] = history.epoch\n",
    "hist.tail()"
   ]
  },
  {
   "cell_type": "code",
   "execution_count": 26,
   "metadata": {
    "colab": {},
    "colab_type": "code",
    "id": "AMk3nNm4fhYt"
   },
   "outputs": [],
   "source": [
    "plotter = tfdocs.plots.HistoryPlotter(smoothing_std=2)"
   ]
  },
  {
   "cell_type": "code",
   "execution_count": 28,
   "metadata": {
    "colab": {
     "base_uri": "https://localhost:8080/",
     "height": 300
    },
    "colab_type": "code",
    "id": "zjTKETmMfiCE",
    "outputId": "f81e8749-4ca3-4cd0-e97c-aa82c51ed087"
   },
   "outputs": [
    {
     "data": {
      "text/plain": [
       "Text(0, 0.5, 'MAE [MPG]')"
      ]
     },
     "execution_count": 28,
     "metadata": {
      "tags": []
     },
     "output_type": "execute_result"
    },
    {
     "data": {
      "image/png": "[encoded data removed]",
      "text/plain": [
       "<Figure size 432x288 with 1 Axes>"
      ]
     },
     "metadata": {
      "needs_background": "light",
      "tags": []
     },
     "output_type": "display_data"
    }
   ],
   "source": [
    "plotter.plot({'Basic': history}, metric = \"mae\")\n",
    "plt.ylim([0, 4])\n",
    "plt.ylabel('MAE [MPG]')"
   ]
  },
  {
   "cell_type": "code",
   "execution_count": 29,
   "metadata": {
    "colab": {
     "base_uri": "https://localhost:8080/",
     "height": 67
    },
    "colab_type": "code",
    "id": "rggHVHsegB0B",
    "outputId": "311df847-a9e2-4608-fb2c-68c63ace3f32"
   },
   "outputs": [
    {
     "name": "stdout",
     "output_type": "stream",
     "text": [
      "\n",
      "Epoch: 0, loss:4.4821,  mae:1.5714,  mse:4.4821,  val_loss:1.7622,  val_mae:1.0595,  val_mse:1.7622,  \n",
      "..........................."
     ]
    }
   ],
   "source": [
    "model = build_model()\n",
    "\n",
    "# The patience parameter is the amount of epochs to check for improvement\n",
    "early_stop = keras.callbacks.EarlyStopping(monitor='val_loss', patience=10)\n",
    "\n",
    "early_history = model.fit(normed_train_data, train_labels, \n",
    "                    epochs=EPOCHS, validation_split = 0.2, verbose=0, \n",
    "                    callbacks=[early_stop, tfdocs.modeling.EpochDots()])"
   ]
  },
  {
   "cell_type": "code",
   "execution_count": 30,
   "metadata": {
    "colab": {
     "base_uri": "https://localhost:8080/",
     "height": 195
    },
    "colab_type": "code",
    "id": "msgo9sl7gI8E",
    "outputId": "ba16220b-ed8c-4b6c-8b91-519de7618751"
   },
   "outputs": [
    {
     "data": {
      "text/html": [
       "<div>\n",
       "<style scoped>\n",
       "    .dataframe tbody tr th:only-of-type {\n",
       "        vertical-align: middle;\n",
       "    }\n",
       "\n",
       "    .dataframe tbody tr th {\n",
       "        vertical-align: top;\n",
       "    }\n",
       "\n",
       "    .dataframe thead th {\n",
       "        text-align: right;\n",
       "    }\n",
       "</style>\n",
       "<table border=\"1\" class=\"dataframe\">\n",
       "  <thead>\n",
       "    <tr style=\"text-align: right;\">\n",
       "      <th></th>\n",
       "      <th>loss</th>\n",
       "      <th>mae</th>\n",
       "      <th>mse</th>\n",
       "      <th>val_loss</th>\n",
       "      <th>val_mae</th>\n",
       "      <th>val_mse</th>\n",
       "      <th>epoch</th>\n",
       "    </tr>\n",
       "  </thead>\n",
       "  <tbody>\n",
       "    <tr>\n",
       "      <th>22</th>\n",
       "      <td>0.402458</td>\n",
       "      <td>0.492246</td>\n",
       "      <td>0.402458</td>\n",
       "      <td>0.495162</td>\n",
       "      <td>0.545822</td>\n",
       "      <td>0.495162</td>\n",
       "      <td>22</td>\n",
       "    </tr>\n",
       "    <tr>\n",
       "      <th>23</th>\n",
       "      <td>0.405953</td>\n",
       "      <td>0.499223</td>\n",
       "      <td>0.405953</td>\n",
       "      <td>0.728066</td>\n",
       "      <td>0.680480</td>\n",
       "      <td>0.728066</td>\n",
       "      <td>23</td>\n",
       "    </tr>\n",
       "    <tr>\n",
       "      <th>24</th>\n",
       "      <td>0.400171</td>\n",
       "      <td>0.490279</td>\n",
       "      <td>0.400171</td>\n",
       "      <td>0.513548</td>\n",
       "      <td>0.564061</td>\n",
       "      <td>0.513548</td>\n",
       "      <td>24</td>\n",
       "    </tr>\n",
       "    <tr>\n",
       "      <th>25</th>\n",
       "      <td>0.381797</td>\n",
       "      <td>0.480534</td>\n",
       "      <td>0.381797</td>\n",
       "      <td>0.586292</td>\n",
       "      <td>0.598033</td>\n",
       "      <td>0.586292</td>\n",
       "      <td>25</td>\n",
       "    </tr>\n",
       "    <tr>\n",
       "      <th>26</th>\n",
       "      <td>0.385642</td>\n",
       "      <td>0.482314</td>\n",
       "      <td>0.385642</td>\n",
       "      <td>0.516360</td>\n",
       "      <td>0.557101</td>\n",
       "      <td>0.516360</td>\n",
       "      <td>26</td>\n",
       "    </tr>\n",
       "  </tbody>\n",
       "</table>\n",
       "</div>"
      ],
      "text/plain": [
       "        loss       mae       mse  val_loss   val_mae   val_mse  epoch\n",
       "22  0.402458  0.492246  0.402458  0.495162  0.545822  0.495162  22   \n",
       "23  0.405953  0.499223  0.405953  0.728066  0.680480  0.728066  23   \n",
       "24  0.400171  0.490279  0.400171  0.513548  0.564061  0.513548  24   \n",
       "25  0.381797  0.480534  0.381797  0.586292  0.598033  0.586292  25   \n",
       "26  0.385642  0.482314  0.385642  0.516360  0.557101  0.516360  26   "
      ]
     },
     "execution_count": 30,
     "metadata": {
      "tags": []
     },
     "output_type": "execute_result"
    }
   ],
   "source": [
    "hist = pd.DataFrame(early_history.history)\n",
    "hist['epoch'] = early_history.epoch\n",
    "hist.tail()"
   ]
  },
  {
   "cell_type": "code",
   "execution_count": 31,
   "metadata": {
    "colab": {
     "base_uri": "https://localhost:8080/",
     "height": 300
    },
    "colab_type": "code",
    "id": "OaufYJtbgLqY",
    "outputId": "98cdea3a-e6c5-4230-bd6d-85f38b9a2e43"
   },
   "outputs": [
    {
     "data": {
      "text/plain": [
       "Text(0, 0.5, 'MAE [MPG]')"
      ]
     },
     "execution_count": 31,
     "metadata": {
      "tags": []
     },
     "output_type": "execute_result"
    },
    {
     "data": {
      "image/png": "[encoded data removed]",
      "text/plain": [
       "<Figure size 432x288 with 1 Axes>"
      ]
     },
     "metadata": {
      "needs_background": "light",
      "tags": []
     },
     "output_type": "display_data"
    }
   ],
   "source": [
    "plotter.plot({'Early Stopping': early_history}, metric = \"mae\")\n",
    "plt.ylim([0, 10])\n",
    "plt.ylabel('MAE [MPG]')"
   ]
  },
  {
   "cell_type": "code",
   "execution_count": 33,
   "metadata": {
    "colab": {
     "base_uri": "https://localhost:8080/",
     "height": 283
    },
    "colab_type": "code",
    "id": "6aaH60qygODb",
    "outputId": "28b2e13c-0deb-4969-dcaf-bbb99796c410"
   },
   "outputs": [
    {
     "data": {
      "image/png": "[encoded data removed]",
      "text/plain": [
       "<Figure size 432x288 with 1 Axes>"
      ]
     },
     "metadata": {
      "needs_background": "light",
      "tags": []
     },
     "output_type": "display_data"
    }
   ],
   "source": [
    "test_predictions = model.predict(normed_test_data).flatten()\n",
    "\n",
    "a = plt.axes(aspect='equal')\n",
    "plt.scatter(test_labels, test_predictions)\n",
    "plt.xlabel('True Values [quality]')\n",
    "plt.ylabel('Predictions [quality]')\n",
    "lims = [0, 10]\n",
    "plt.xlim(lims)\n",
    "plt.ylim(lims)\n",
    "_ = plt.plot(lims, lims)\n"
   ]
  },
  {
   "cell_type": "code",
   "execution_count": null,
   "metadata": {
    "colab": {},
    "colab_type": "code",
    "id": "UL5sC0GFgW2k"
   },
   "outputs": [],
   "source": []
  }
 ],
 "metadata": {
  "colab": {
   "name": "04- Wine Quality.ipynb",
   "provenance": []
  },
  "kernelspec": {
   "display_name": "Python 3",
   "language": "python",
   "name": "python3"
  },
  "language_info": {
   "codemirror_mode": {
    "name": "ipython",
    "version": 3
   },
   "file_extension": ".py",
   "mimetype": "text/x-python",
   "name": "python",
   "nbconvert_exporter": "python",
   "pygments_lexer": "ipython3",
   "version": "3.8.3"
  }
 },
 "nbformat": 4,
 "nbformat_minor": 1
}
