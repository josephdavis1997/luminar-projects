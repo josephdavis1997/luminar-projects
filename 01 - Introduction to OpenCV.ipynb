{
 "cells": [
  {
   "cell_type": "markdown",
   "metadata": {},
   "source": [
    "## OpenCV\n",
    "OpenCV is a library of programming functions mainly aimed at real-time computer vision. Originally developed by Intel, it was later supported by Willow Garage then Itseez.\n",
    "\n",
    "OpenCV is available in C++,Java and Python"
   ]
  },
  {
   "cell_type": "markdown",
   "metadata": {},
   "source": [
    "### Installation\n",
    "\n",
    "pip install opencv-python"
   ]
  },
  {
   "cell_type": "code",
   "execution_count": 1,
   "metadata": {},
   "outputs": [],
   "source": [
    "#import package\n",
    "import cv2 as cv\n",
    "import numpy as np"
   ]
  },
  {
   "cell_type": "code",
   "execution_count": 2,
   "metadata": {},
   "outputs": [],
   "source": [
    "#Load Image\n",
    "img = cv.imread(\"data/messi.jpg\")"
   ]
  },
  {
   "cell_type": "code",
   "execution_count": 3,
   "metadata": {},
   "outputs": [
    {
     "data": {
      "text/plain": [
       "numpy.ndarray"
      ]
     },
     "execution_count": 3,
     "metadata": {},
     "output_type": "execute_result"
    }
   ],
   "source": [
    "#type of img - every image is a numerical array.\n",
    "type(img)"
   ]
  },
  {
   "cell_type": "code",
   "execution_count": 5,
   "metadata": {},
   "outputs": [
    {
     "data": {
      "text/plain": [
       "(750, 1200, 3)"
      ]
     },
     "execution_count": 5,
     "metadata": {},
     "output_type": "execute_result"
    }
   ],
   "source": [
    "#Image Shape\n",
    "img.shape  #Height,Width,Layers(Blue,Green,Red)"
   ]
  },
  {
   "cell_type": "code",
   "execution_count": 6,
   "metadata": {},
   "outputs": [],
   "source": [
    "#Load image as greyscale\n",
    "img_grey = cv.imread(\"data/messi.jpg\", cv.IMREAD_GRAYSCALE)"
   ]
  },
  {
   "cell_type": "code",
   "execution_count": 7,
   "metadata": {},
   "outputs": [
    {
     "data": {
      "text/plain": [
       "(750, 1200)"
      ]
     },
     "execution_count": 7,
     "metadata": {},
     "output_type": "execute_result"
    }
   ],
   "source": [
    "img_grey.shape"
   ]
  },
  {
   "cell_type": "code",
   "execution_count": 23,
   "metadata": {},
   "outputs": [],
   "source": [
    "#Show Image\n",
    "cv.namedWindow('Messi Normal Image', cv.WINDOW_AUTOSIZE)\n",
    "cv.imshow('Messi photo', img)\n",
    "cv.waitKey(10000)\n",
    "cv.destroyAllWindows()"
   ]
  },
  {
   "cell_type": "code",
   "execution_count": 16,
   "metadata": {},
   "outputs": [],
   "source": [
    "#Show GreyScale Image\n",
    "cv.namedWindow('Messi_Grey', cv.WINDOW_AUTOSIZE)\n",
    "cv.imshow('Messi_Grey', img_grey)\n",
    "cv.waitKey(10000)\n",
    "cv.destroyAllWindows()"
   ]
  },
  {
   "cell_type": "code",
   "execution_count": 38,
   "metadata": {},
   "outputs": [],
   "source": [
    "##Binary Image\n",
    "(thresh, im_bw) = cv.threshold(img_grey, 127, 255, cv.THRESH_BINARY)"
   ]
  },
  {
   "cell_type": "code",
   "execution_count": 40,
   "metadata": {},
   "outputs": [
    {
     "data": {
      "text/plain": [
       "127.0"
      ]
     },
     "execution_count": 40,
     "metadata": {},
     "output_type": "execute_result"
    }
   ],
   "source": [
    "##Binary Image\n",
    "im_bw = cv.threshold(img_grey, 127, 255, cv.THRESH_BINARY)[1]"
   ]
  },
  {
   "cell_type": "code",
   "execution_count": 39,
   "metadata": {},
   "outputs": [],
   "source": [
    "#Show Binary Image\n",
    "cv.namedWindow('MessiBinary', cv.WINDOW_AUTOSIZE)\n",
    "cv.imshow('Messi_Binary', im_bw)\n",
    "cv.waitKey(10000)\n",
    "cv.destroyAllWindows()"
   ]
  },
  {
   "cell_type": "code",
   "execution_count": 11,
   "metadata": {},
   "outputs": [],
   "source": [
    "#Accessing pixel intensity values\n",
    "\n",
    "blue = img[:,:,0]\n",
    "green = img[:,:,1]\n",
    "red = img[:,:,2]"
   ]
  },
  {
   "cell_type": "code",
   "execution_count": 19,
   "metadata": {},
   "outputs": [
    {
     "data": {
      "text/plain": [
       "True"
      ]
     },
     "execution_count": 19,
     "metadata": {},
     "output_type": "execute_result"
    }
   ],
   "source": [
    "#Save Image\n",
    "cv.imwrite(\"data/Messi_Grey.jpg\",img_grey)"
   ]
  },
  {
   "cell_type": "code",
   "execution_count": 20,
   "metadata": {},
   "outputs": [
    {
     "data": {
      "text/plain": [
       "True"
      ]
     },
     "execution_count": 20,
     "metadata": {},
     "output_type": "execute_result"
    }
   ],
   "source": [
    "#Save Image\n",
    "cv.imwrite(\"data/Messi_BW.jpg\",im_bw)"
   ]
  },
  {
   "cell_type": "code",
   "execution_count": 13,
   "metadata": {},
   "outputs": [
    {
     "data": {
      "text/plain": [
       "numpy.ndarray"
      ]
     },
     "execution_count": 13,
     "metadata": {},
     "output_type": "execute_result"
    }
   ],
   "source": [
    "#image datatype\n",
    "type(img)"
   ]
  },
  {
   "cell_type": "code",
   "execution_count": 14,
   "metadata": {},
   "outputs": [],
   "source": [
    "#new Image - Black Image\n",
    "new_img = np.zeros((750,1200,3)) #with dim"
   ]
  },
  {
   "cell_type": "code",
   "execution_count": 15,
   "metadata": {},
   "outputs": [],
   "source": [
    "#Show GreyScale Image\n",
    "cv.namedWindow('New Image', cv.WINDOW_AUTOSIZE)\n",
    "cv.imshow('New Image', new_img)\n",
    "cv.waitKey(2000)\n",
    "cv.destroyAllWindows()"
   ]
  },
  {
   "cell_type": "code",
   "execution_count": 16,
   "metadata": {},
   "outputs": [],
   "source": [
    "#new Image - White Image\n",
    "new_img[:] = 255"
   ]
  },
  {
   "cell_type": "code",
   "execution_count": 17,
   "metadata": {},
   "outputs": [],
   "source": [
    "#Show GreyScale Image\n",
    "cv.namedWindow('New Image', cv.WINDOW_AUTOSIZE)\n",
    "cv.imshow('New Image', new_img)\n",
    "cv.waitKey(5000)\n",
    "cv.destroyAllWindows()"
   ]
  },
  {
   "cell_type": "markdown",
   "metadata": {},
   "source": [
    "### Contrast & Brightness"
   ]
  },
  {
   "cell_type": "markdown",
   "metadata": {},
   "source": [
    "#### Two commonly used point processes are multiplication and addition with a constant: g(x )= αf(x) + β\n",
    "\n",
    "The parameters α>0 and β are often called the gain and bias parameters; sometimes these parameters are said to control contrast and brightness respectively."
   ]
  },
  {
   "cell_type": "code",
   "execution_count": 18,
   "metadata": {},
   "outputs": [],
   "source": [
    "new_image = np.zeros(img.shape, img.dtype)"
   ]
  },
  {
   "cell_type": "code",
   "execution_count": 19,
   "metadata": {},
   "outputs": [],
   "source": [
    "alpha = 2    #Simple contrast control\n",
    "beta = 20   #Simple brightness control"
   ]
  },
  {
   "cell_type": "code",
   "execution_count": 20,
   "metadata": {},
   "outputs": [],
   "source": [
    "for y in range(img.shape[0]):\n",
    "    for x in range(img.shape[1]):\n",
    "        for c in range(img.shape[2]):\n",
    "            new_image[y,x,c] = np.clip(alpha*img[y,x,c] + beta, 0, 255)"
   ]
  },
  {
   "cell_type": "code",
   "execution_count": 21,
   "metadata": {},
   "outputs": [],
   "source": [
    "#Show GreyScale Image\n",
    "cv.namedWindow('New Image', cv.WINDOW_AUTOSIZE)\n",
    "cv.imshow('New Image', new_image)\n",
    "cv.waitKey(2000)\n",
    "cv.destroyAllWindows()"
   ]
  },
  {
   "cell_type": "markdown",
   "metadata": {},
   "source": [
    "### Gamma correction\n",
    "\n",
    "Gamma correction can be used to correct the brightness of an image by using a non linear transformation between the input values and the mapped output values:\n",
    "\n",
    "O = (I/255)^γ * 255\n",
    "\n",
    "When γ<1, the original dark regions will be brighter and the histogram will be shifted to the right whereas it will be the opposite with γ>1."
   ]
  },
  {
   "cell_type": "code",
   "execution_count": 22,
   "metadata": {},
   "outputs": [],
   "source": [
    "gamma = 1.5\n",
    "lookUpTable = np.empty((1,256), np.uint8)\n",
    "for i in range(256):\n",
    "    lookUpTable[0,i] = np.clip(pow(i / 255.0, gamma) * 255.0, 0, 255)\n",
    "res = cv.LUT(img, lookUpTable)"
   ]
  },
  {
   "cell_type": "code",
   "execution_count": 23,
   "metadata": {},
   "outputs": [],
   "source": [
    "#Show gamma corrected Image\n",
    "cv.namedWindow('gamma Image', cv.WINDOW_AUTOSIZE)\n",
    "cv.imshow('gamma Image', res)\n",
    "cv.waitKey(2000)\n",
    "cv.destroyAllWindows()"
   ]
  },
  {
   "cell_type": "markdown",
   "metadata": {},
   "source": [
    "### Adding (blending) two images using OpenCV"
   ]
  },
  {
   "cell_type": "markdown",
   "metadata": {},
   "source": [
    "##### g(x) = (1−α) f0(x) + αf1(x)"
   ]
  },
  {
   "cell_type": "code",
   "execution_count": 24,
   "metadata": {},
   "outputs": [],
   "source": [
    "img2 = cv.imread(\"data/ground.jpg\")\n",
    "img2 = cv.resize(img2,(img.shape[1],img.shape[0]))\n",
    "alpha = 0.4\n",
    "beta = (1.0 - alpha)\n",
    "\n",
    "res = cv.addWeighted(img, alpha, img2, beta, 0.0)\n"
   ]
  },
  {
   "cell_type": "code",
   "execution_count": 25,
   "metadata": {},
   "outputs": [],
   "source": [
    "#Show Blended Image\n",
    "cv.namedWindow('blended Image', cv.WINDOW_AUTOSIZE)\n",
    "cv.imshow('blended Image', res)\n",
    "cv.waitKey(2000)\n",
    "cv.destroyAllWindows()"
   ]
  },
  {
   "cell_type": "markdown",
   "metadata": {},
   "source": [
    "### Canny Edge"
   ]
  },
  {
   "cell_type": "code",
   "execution_count": 26,
   "metadata": {},
   "outputs": [],
   "source": [
    "edges = cv.Canny(img,150,150)"
   ]
  },
  {
   "cell_type": "code",
   "execution_count": 27,
   "metadata": {},
   "outputs": [],
   "source": [
    "#Show Edges\n",
    "cv.namedWindow('Edges', cv.WINDOW_AUTOSIZE)\n",
    "cv.imshow('Edges', edges)\n",
    "cv.waitKey(2000)\n",
    "cv.destroyAllWindows()"
   ]
  },
  {
   "cell_type": "markdown",
   "metadata": {},
   "source": [
    "### Add Text "
   ]
  },
  {
   "cell_type": "code",
   "execution_count": 28,
   "metadata": {},
   "outputs": [],
   "source": [
    "img_text = img.copy()\n",
    "\n",
    "# font \n",
    "font = cv.FONT_HERSHEY_SIMPLEX \n",
    "  \n",
    "# org \n",
    "org = (50, 100) \n",
    "  \n",
    "# fontScale \n",
    "fontScale = 1\n",
    "   \n",
    "# Blue color in BGR \n",
    "color = (75, 125, 45) \n",
    "  \n",
    "# Line thickness of 2 px \n",
    "thickness = 2\n",
    "   \n",
    "# Using cv2.putText() method \n",
    "img_text = cv.putText(img_text, 'The Goat!', org, font,  \n",
    "                   fontScale, color, thickness, cv.LINE_AA) "
   ]
  },
  {
   "cell_type": "code",
   "execution_count": 29,
   "metadata": {},
   "outputs": [],
   "source": [
    "#Show Text on Image\n",
    "cv.namedWindow('text Image', cv.WINDOW_AUTOSIZE)\n",
    "cv.imshow('text Image', img_text)\n",
    "cv.waitKey(2000)\n",
    "cv.destroyAllWindows()"
   ]
  },
  {
   "cell_type": "markdown",
   "metadata": {},
   "source": [
    "### Gaussian Blur"
   ]
  },
  {
   "cell_type": "code",
   "execution_count": 30,
   "metadata": {},
   "outputs": [],
   "source": [
    "img_blur = cv.GaussianBlur(img,(7,7),0)"
   ]
  },
  {
   "cell_type": "code",
   "execution_count": 31,
   "metadata": {},
   "outputs": [],
   "source": [
    "#Show Blur Image\n",
    "cv.namedWindow('blur Image', cv.WINDOW_AUTOSIZE)\n",
    "cv.imshow('blur Image', img_blur)\n",
    "cv.waitKey(2000)\n",
    "cv.destroyAllWindows()"
   ]
  },
  {
   "cell_type": "markdown",
   "metadata": {},
   "source": [
    "### Image Dilation"
   ]
  },
  {
   "cell_type": "code",
   "execution_count": 32,
   "metadata": {},
   "outputs": [],
   "source": [
    "# creating kernals\n",
    "kernal = np.ones((5,5),np.uint8)\n",
    "img_dilate = cv.dilate(edges,kernal,iterations = 5)"
   ]
  },
  {
   "cell_type": "code",
   "execution_count": 33,
   "metadata": {},
   "outputs": [],
   "source": [
    "#Show dilation Image\n",
    "cv.namedWindow('dilate Image', cv.WINDOW_AUTOSIZE)\n",
    "cv.imshow('dilate Image', img_dilate)\n",
    "cv.waitKey(2000)\n",
    "cv.destroyAllWindows()"
   ]
  },
  {
   "cell_type": "markdown",
   "metadata": {},
   "source": [
    "### Image Erosion"
   ]
  },
  {
   "cell_type": "code",
   "execution_count": 34,
   "metadata": {},
   "outputs": [],
   "source": [
    "# creating kernals\n",
    "kernal = np.ones((5,5),np.uint8)\n",
    "img_erode = cv.dilate(img_dilate,kernal,iterations = 5)"
   ]
  },
  {
   "cell_type": "code",
   "execution_count": 35,
   "metadata": {},
   "outputs": [],
   "source": [
    "#Show Erode Image\n",
    "cv.namedWindow('erode Image', cv.WINDOW_AUTOSIZE)\n",
    "cv.imshow('erode Image', img_erode)\n",
    "cv.waitKey(2000)\n",
    "cv.destroyAllWindows()"
   ]
  },
  {
   "cell_type": "code",
   "execution_count": 36,
   "metadata": {},
   "outputs": [],
   "source": [
    "#END"
   ]
  }
 ],
 "metadata": {
  "kernelspec": {
   "display_name": "Python 3",
   "language": "python",
   "name": "python3"
  },
  "language_info": {
   "codemirror_mode": {
    "name": "ipython",
    "version": 3
   },
   "file_extension": ".py",
   "mimetype": "text/x-python",
   "name": "python",
   "nbconvert_exporter": "python",
   "pygments_lexer": "ipython3",
   "version": "3.8.3"
  }
 },
 "nbformat": 4,
 "nbformat_minor": 2
}
